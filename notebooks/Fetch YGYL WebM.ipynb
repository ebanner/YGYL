{
 "cells": [
  {
   "cell_type": "markdown",
   "metadata": {},
   "source": [
    "# Find YGYL Thread ID"
   ]
  },
  {
   "cell_type": "code",
   "execution_count": null,
   "metadata": {
    "scrolled": false
   },
   "outputs": [],
   "source": [
    "import requests\n",
    "\n",
    "def get_ygyl_id():\n",
    "    pages = requests.get('https://a.4cdn.org/gif/catalog.json').json()\n",
    "    for page in pages:\n",
    "        for thread in page['threads']:\n",
    "            if 'ygyl' in thread.get('sub', 'ylyl').lower():\n",
    "                return thread['no']\n",
    "            \n",
    "ygyl_id = get_ygyl_id()\n",
    "ygyl_id"
   ]
  },
  {
   "cell_type": "markdown",
   "metadata": {},
   "source": [
    "# Fetch YGYL Thread"
   ]
  },
  {
   "cell_type": "code",
   "execution_count": null,
   "metadata": {
    "scrolled": true
   },
   "outputs": [],
   "source": [
    "thread = requests.get(f'https://a.4cdn.org/gif/thread/{ygyl_id}.json').json()\n",
    "posts = thread['posts']\n",
    "\n",
    "posts"
   ]
  },
  {
   "cell_type": "markdown",
   "metadata": {},
   "source": [
    "# Fetch WebM"
   ]
  },
  {
   "cell_type": "code",
   "execution_count": null,
   "metadata": {},
   "outputs": [],
   "source": [
    "post = posts[0]\n",
    "tim = post[\"tim\"]\n",
    "url = f'http://i.4cdn.org/gif/{tim}.webm'\n",
    "\n",
    "!wget $url"
   ]
  },
  {
   "cell_type": "markdown",
   "metadata": {},
   "source": [
    "# Render WebM"
   ]
  },
  {
   "cell_type": "code",
   "execution_count": null,
   "metadata": {},
   "outputs": [],
   "source": [
    "import IPython.core.display\n",
    "\n",
    "IPython.core.display.HTML(\"\"\"\n",
    "\n",
    "<video autoplay>\n",
    "    <source src=\"1519408234761.webm\" type=\"video/webm\">\n",
    "</video>\n",
    "\n",
    "\"\"\")"
   ]
  }
 ],
 "metadata": {
  "kernelspec": {
   "display_name": "Python 3",
   "language": "python",
   "name": "python3"
  },
  "language_info": {
   "codemirror_mode": {
    "name": "ipython",
    "version": 3
   },
   "file_extension": ".py",
   "mimetype": "text/x-python",
   "name": "python",
   "nbconvert_exporter": "python",
   "pygments_lexer": "ipython3",
   "version": "3.6.2"
  }
 },
 "nbformat": 4,
 "nbformat_minor": 2
}
